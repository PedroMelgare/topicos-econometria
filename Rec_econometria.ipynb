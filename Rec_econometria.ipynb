{
 "cells": [
  {
   "cell_type": "markdown",
   "metadata": {},
   "source": [
    "Créditos: Pedro Melgaré"
   ]
  },
  {
   "cell_type": "markdown",
   "metadata": {},
   "source": [
    "# Introdução"
   ]
  },
  {
   "cell_type": "markdown",
   "metadata": {},
   "source": [
    "    O presente trabalho objetiva examinar empiricamente a relação entre o Índice de Expectativas Futuras da Federação do Comércio de Bens, Serviços e Turismo do Estado de São Paulo com o valor de mercado do dólar no Brasil. A ideia é motivada pela volatilidade notoriamente alta do dólar no Brasil, bem como a frequentemente apontada relação de seu valor com as expectativas em relação à economia brasileira. A hipótese a ser testada é que uma alta nas expectativas em relação à economia brasileira valorizam o real, derrubando o valor do dólar. \n",
    "    Para realizar este estudo, foram baixadas as duas séries do API do Banco Central, realizado um tratamento sobre os dados e uma análise baseada em regressão simples. \n",
    "    Destaca-se que todas as figuras e outputs de regressão deste trabalho estão programadas para serem salvas em arquivos separados, para melhor visualização."
   ]
  },
  {
   "cell_type": "markdown",
   "metadata": {},
   "source": [
    "### Importação de dados e módulos"
   ]
  },
  {
   "cell_type": "code",
   "execution_count": 1,
   "metadata": {},
   "outputs": [],
   "source": [
    "#Importação de módulos\n",
    "import pandas as pd\n",
    "from datetime import datetime\n",
    "import json\n",
    "import requests\n",
    "import matplotlib.pyplot as plt\n",
    "import statsmodels.tsa.stattools as ts\n",
    "import statsmodels.tsa.vector_ar.vecm as vecm\n",
    "import statsmodels.api as sm\n",
    "import statsmodels.stats.diagnostic as dg\n",
    "import numpy as np\n",
    "\n",
    "# data inicial e final da serie expectativas\n",
    "# FORMATO DD/MM/AAAA\n",
    "iniDataSource1 = '01/01/2002'\n",
    "finalDataSource1 = '01/01/2018'\n",
    "\n",
    "# data inicial e final da serie de cotacoes do dolar\n",
    "# FORMATO MM-DD-AAAA\n",
    "iniDataSource2 = '01-01-2002'\n",
    "finalDataSource2 = '01-01-2018'\n",
    "\n",
    "#buscando e baixando dados relativos ao indice de expectativas futuras do site do BC\n",
    "source1 = 'http://api.bcb.gov.br/dados/serie/bcdata.sgs.4395/dados?formato=json&dataInicial=' + str(iniDataSource1) + '&dataFinal=' +  str(finalDataSource1)\n",
    "page = requests.get(source1)\n",
    "dfExpectativa = pd.DataFrame(page.json())\n",
    "dfExpectativa['data'] = pd.to_datetime(dfExpectativa['data'])\n",
    "dfExpectativa['valor'] = dfExpectativa['valor'].astype(float)\n",
    "dfExpectativa.set_index('data', inplace=True)\n",
    "\n",
    "\n",
    "# buscando e baixando cotacoes diarias do site do BC\n",
    "# como o link das informacoes em json nao esta funcionando, foi necessario ir pelo link da solicitacao para baixar os dados em json\n",
    "# com isso, faz-se necessario construirmos o data frame a partir de listas com as informacoes extraidas, pois as informacoes veem\n",
    "# de uma maneira quebrada\n",
    "\n",
    "# baixando as informacoes\n",
    "source2 = 'https://olinda.bcb.gov.br/olinda/servico/PTAX/versao/v1/odata/CotacaoDolarPeriodo(dataInicial=@dataInicial,dataFinalCotacao=@dataFinalCotacao)?@dataInicial=%27'+iniDataSource2+'%27&@dataFinalCotacao=%27'+finalDataSource2+'%27&$format=json&$select=cotacaoCompra,cotacaoVenda,dataHoraCotacao'\n",
    "page2 = requests.get(source2)\n",
    "dfCotacao = pd.DataFrame(page2.json())\n",
    "dfCotacao = dfCotacao.iloc[:,1]\n",
    "\n",
    "# extraindo as listas\n",
    "list_date = []\n",
    "list_compra = []\n",
    "list_venda = []\n",
    "for line in dfCotacao:\n",
    "    list_date.append(datetime.strptime(line['dataHoraCotacao'][:10], '%Y-%m-%d'))\n",
    "    list_compra.append(line['cotacaoCompra'])\n",
    "    list_venda.append(line['cotacaoVenda'])\n",
    "\n",
    "# criando o dataframe\n",
    "dfCotacao = pd.DataFrame(np.column_stack([list_date,list_compra,list_venda]), columns=['data', 'cotacaoCompra','cotacaoVenda'])\n",
    "dfCotacao['cotacaoCompra'] = dfCotacao['cotacaoCompra'].astype(float)\n",
    "dfCotacao['cotacaoVenda'] = dfCotacao['cotacaoVenda'].astype(float)\n",
    "dfCotacao.set_index('data', inplace=True)\n"
   ]
  },
  {
   "cell_type": "markdown",
   "metadata": {},
   "source": [
    "### Juntando os dados"
   ]
  },
  {
   "cell_type": "code",
   "execution_count": 2,
   "metadata": {},
   "outputs": [
    {
     "data": {
      "text/html": [
       "<div>\n",
       "<style scoped>\n",
       "    .dataframe tbody tr th:only-of-type {\n",
       "        vertical-align: middle;\n",
       "    }\n",
       "\n",
       "    .dataframe tbody tr th {\n",
       "        vertical-align: top;\n",
       "    }\n",
       "\n",
       "    .dataframe thead th {\n",
       "        text-align: right;\n",
       "    }\n",
       "</style>\n",
       "<table border=\"1\" class=\"dataframe\">\n",
       "  <thead>\n",
       "    <tr style=\"text-align: right;\">\n",
       "      <th></th>\n",
       "      <th>valor</th>\n",
       "      <th>cotacaoCompra</th>\n",
       "      <th>cotacaoVenda</th>\n",
       "    </tr>\n",
       "    <tr>\n",
       "      <th>data</th>\n",
       "      <th></th>\n",
       "      <th></th>\n",
       "      <th></th>\n",
       "    </tr>\n",
       "  </thead>\n",
       "  <tbody>\n",
       "    <tr>\n",
       "      <th>2002-01-02</th>\n",
       "      <td>101.54</td>\n",
       "      <td>2.3058</td>\n",
       "      <td>2.3066</td>\n",
       "    </tr>\n",
       "    <tr>\n",
       "      <th>2002-01-03</th>\n",
       "      <td>100.37</td>\n",
       "      <td>2.2924</td>\n",
       "      <td>2.2932</td>\n",
       "    </tr>\n",
       "    <tr>\n",
       "      <th>2002-01-04</th>\n",
       "      <td>110.41</td>\n",
       "      <td>2.3093</td>\n",
       "      <td>2.3101</td>\n",
       "    </tr>\n",
       "    <tr>\n",
       "      <th>2002-01-07</th>\n",
       "      <td>104.91</td>\n",
       "      <td>2.3420</td>\n",
       "      <td>2.3428</td>\n",
       "    </tr>\n",
       "    <tr>\n",
       "      <th>2002-01-08</th>\n",
       "      <td>103.16</td>\n",
       "      <td>2.3446</td>\n",
       "      <td>2.3454</td>\n",
       "    </tr>\n",
       "  </tbody>\n",
       "</table>\n",
       "</div>"
      ],
      "text/plain": [
       "             valor  cotacaoCompra  cotacaoVenda\n",
       "data                                           \n",
       "2002-01-02  101.54         2.3058        2.3066\n",
       "2002-01-03  100.37         2.2924        2.2932\n",
       "2002-01-04  110.41         2.3093        2.3101\n",
       "2002-01-07  104.91         2.3420        2.3428\n",
       "2002-01-08  103.16         2.3446        2.3454"
      ]
     },
     "execution_count": 2,
     "metadata": {},
     "output_type": "execute_result"
    }
   ],
   "source": [
    "#Concatenação dos dados para um dataframe único\n",
    "exp_cam_df = pd.concat([dfExpectativa,dfCotacao],join='inner', axis=1)\n",
    "exp_cam_df.head()\n"
   ]
  },
  {
   "cell_type": "markdown",
   "metadata": {},
   "source": [
    "### Estatísticas descritivas"
   ]
  },
  {
   "cell_type": "code",
   "execution_count": 3,
   "metadata": {},
   "outputs": [
    {
     "name": "stdout",
     "output_type": "stream",
     "text": [
      "A correlação amostral entre a cotação de compra e de venda do dólar é de 0.9999999824144432 .\n",
      "\n",
      "A média do índice de expectativas é de 136.51056000000003 e seu desvio padrão é de 18.848070163213514 .\n",
      "\n",
      "A média da cotação de venda do dólar é de 2.4388392000000003 e seu desvio padrão é de 0.630625566644587 .\n",
      "\n",
      "A correlação amostral entre o índice de expectativas e o valor de venda do dólar é -0.4428691921903992 .\n",
      "\n"
     ]
    }
   ],
   "source": [
    "#Estatísticas descritivas básicas\n",
    "media_dol=exp_cam_df['cotacaoVenda'].mean()\n",
    "media_exp = exp_cam_df['valor'].mean()\n",
    "dp_dol = exp_cam_df['cotacaoVenda'].std()\n",
    "dp_exp = exp_cam_df['valor'].std()\n",
    "corr = exp_cam_df['valor'].corr(exp_cam_df['cotacaoVenda'])\n",
    "\n",
    "corr_dol = dfCotacao['cotacaoCompra'].corr(dfCotacao['cotacaoVenda'])\n",
    "print(\"A correlação amostral entre a cotação de compra e de venda do dólar é de\", corr_dol,\".\\n\")\n",
    "\n",
    "#Remoção do valor de compra do dolar do dataframe\n",
    "exp_cam_df = exp_cam_df.drop(['cotacaoCompra'], axis=1)\n",
    "\n",
    "print(\"A média do índice de expectativas é de\", media_exp,\"e seu desvio padrão é de\", dp_exp,\".\\n\")\n",
    "print(\"A média da cotação de venda do dólar é de\", media_dol,\"e seu desvio padrão é de\", dp_dol,\".\\n\")\n",
    "print(\"A correlação amostral entre o índice de expectativas e o valor de venda do dólar é\", corr,\".\\n\")"
   ]
  },
  {
   "cell_type": "markdown",
   "metadata": {},
   "source": [
    "    A média do dólar no período ficou pŕoxima de 2,30R$. A correlação amostral entre as duas séries é relativamente alta (em módulo), e no sinal indicado por nossa hipótese."
   ]
  },
  {
   "cell_type": "code",
   "execution_count": 4,
   "metadata": {},
   "outputs": [
    {
     "data": {
      "image/png": "[encoded data removed]",
      "text/plain": [
       "<Figure size 432x288 with 2 Axes>"
      ]
     },
     "metadata": {},
     "output_type": "display_data"
    }
   ],
   "source": [
    "#criação do primeiro grafico\n",
    "fig, ax1 = plt.subplots()\n",
    "\n",
    "color = 'tab:red'\n",
    "ax1.set_xlabel('Data')\n",
    "ax1.set_ylabel('Expectativas', color=color)\n",
    "ax1.plot(exp_cam_df.index.values, exp_cam_df['valor'], color=color)\n",
    "ax1.tick_params(axis='y', labelcolor=color)\n",
    "\n",
    "#concatenação dos dois gráficos em um gráfico de dois eixos y\n",
    "ax2 = ax1.twinx() \n",
    "\n",
    "color = 'tab:blue'\n",
    "ax2.set_ylabel('Dólar', color=color)  \n",
    "ax2.plot(exp_cam_df.index.values, exp_cam_df['cotacaoVenda'], color=color)\n",
    "ax2.tick_params(axis='y', labelcolor=color)\n",
    "\n",
    "plt.savefig('exp_cam_graf.pdf')"
   ]
  },
  {
   "cell_type": "markdown",
   "metadata": {},
   "source": [
    "    A correlação moderadamente negativa que obtivemos é sugerida pelo gráfico. Note que no período de 2010 a 2013, quando as expectativas estavam altas, o dólar se mostra em um patamar consideravelmente abaixo da média de nossa amostra."
   ]
  },
  {
   "cell_type": "markdown",
   "metadata": {},
   "source": [
    "# Teste ADF e teste de cointegração de Johansen"
   ]
  },
  {
   "cell_type": "code",
   "execution_count": 5,
   "metadata": {},
   "outputs": [
    {
     "name": "stdout",
     "output_type": "stream",
     "text": [
      "O p-valor para o teste ADF para a série das expectativas é de 0.09714678404780974 e o p-valor para a série do dólar é de 0.457435270665434 .\n",
      "\n"
     ]
    }
   ],
   "source": [
    "exp_ADF = ts.adfuller(exp_cam_df['valor'])\n",
    "dol_ADF = ts.adfuller(exp_cam_df['cotacaoVenda'])\n",
    "\n",
    "print(\"O p-valor para o teste ADF para a série das expectativas é de\", exp_ADF[1],\"e o p-valor para a série do dólar é de\", dol_ADF[1],\".\\n\")"
   ]
  },
  {
   "cell_type": "markdown",
   "metadata": {},
   "source": [
    "    Visto que a hipótese nula do teste ADF não é rejeitada a 5% para nenhuma das séries, infiro que ambas sejam não estacionárias. Para evitar problemas de regressão espúria, farei o teste de cointegração antes da regressão, de modo a saber se há ou não necessidade de tirarmos a primeira diferença das séries para sua posterior análise."
   ]
  },
  {
   "cell_type": "code",
   "execution_count": 6,
   "metadata": {},
   "outputs": [],
   "source": [
    "#Realizar o teste de cointegração de Johansen com constante e sem tendência, com uma ordem de defasagem\n",
    "coint_test = vecm.coint_johansen(exp_cam_df, det_order = 0, k_ar_diff = 1)\n",
    "#Salvar as estatísticas de traço e autovetor\n",
    "eig_stat = coint_test.lr2\n",
    "trace_stat = coint_test.lr1\n",
    "#Salvar os valores críticos das estatísticas de traço e autovetor\n",
    "crit_trace_stat = coint_test.cvt\n",
    "crit_eig_stat = coint_test.cvm\n",
    "\n",
    "#Preparando resultados para output\n",
    "trace1 = tuple(np.append(crit_trace_stat[0,:],trace_stat[0]))\n",
    "trace2 = tuple(np.append(crit_trace_stat[1,:],trace_stat[1]))\n",
    "eig1 = tuple(np.append(crit_eig_stat[0,:],eig_stat[0]))\n",
    "eig2 = tuple(np.append(crit_eig_stat[1,:],eig_stat[1]))"
   ]
  },
  {
   "cell_type": "code",
   "execution_count": 7,
   "metadata": {},
   "outputs": [
    {
     "name": "stdout",
     "output_type": "stream",
     "text": [
      "Os valores críticos para a estatística de traço deste teste de Johansen, para a hipótese nula de menos de um vetor de cointegração, são de 13.4294 para 90%, 15.4943 para 95% e 19.9349 para 99%. O valor encontrado foi 18.983961846131493.\n",
      "\n",
      "Os valores críticos para a estatística de traço deste teste de Johansen, para a hipótese nula de menos de dois vetores de cointegração, são de 2.7055 para 90%, 3.8415 para 95% e 6.6349 para 99%. O valor encontrado foi 3.717205870092211.\n",
      "\n",
      "Os valores críticos para a estatística de autovetor deste teste de Johansen, para a hipótese nula de menos de um vetor de cointegração, são de 12.2971 para 90%, 14.2639 para 95% e 18.52 para 99%. O valor encontrado foi 15.26675597603928.\n",
      "\n",
      "Os valores críticos para a estatística de autovetor deste teste de Johansen, para a hipótese nula de menos de dois vetores de cointegração, são de 2.7055 para 90%, 3.8415 para 95% e 6.6349 para 99%. O valor encontrado foi 3.717205870092211.\n",
      "\n"
     ]
    }
   ],
   "source": [
    "print(\"Os valores críticos para a estatística de traço deste teste de Johansen, para a hipótese nula de menos de um vetor de cointegração, são de {} para 90%, {} para 95% e {} para 99%. O valor encontrado foi {}.\\n\".format(*trace1))\n",
    "print(\"Os valores críticos para a estatística de traço deste teste de Johansen, para a hipótese nula de menos de dois vetores de cointegração, são de {} para 90%, {} para 95% e {} para 99%. O valor encontrado foi {}.\\n\".format(*trace2))\n",
    "print(\"Os valores críticos para a estatística de autovetor deste teste de Johansen, para a hipótese nula de menos de um vetor de cointegração, são de {} para 90%, {} para 95% e {} para 99%. O valor encontrado foi {}.\\n\".format(*eig1))\n",
    "print(\"Os valores críticos para a estatística de autovetor deste teste de Johansen, para a hipótese nula de menos de dois vetores de cointegração, são de {} para 90%, {} para 95% e {} para 99%. O valor encontrado foi {}.\\n\".format(*eig2))"
   ]
  },
  {
   "cell_type": "markdown",
   "metadata": {},
   "source": [
    "    Pelos resultados do teste de cointegração de Johansen, rejeitamos a nula da existência de um vetor de cointegração a um nível de significância de 5% pelo teste do traço. Apesar da hipótese nula teste de autovetor para a existência de dois vetores de cointegração ter sido rejeitada, adoto aqui o procedimento sugerido de tomar a primeira não-rejeição da nula como uma estimativa para o número de vetores de cointegração. Note também que a hipótese alternativa dos testes são diferentes: enquanto a hipótese alternativa do teste do traço para a existência de r = r* < k vetores de cointegração é r = r*, a alternativa para o teste dos autovetores é de que r = r* + 1. Então, ambos o testes do traço e dos autovetores indicam a existência de dois vetores de cointegração, indicando que as variáveis são cointegradas."
   ]
  },
  {
   "cell_type": "markdown",
   "metadata": {},
   "source": [
    "# Regressão e Análise"
   ]
  },
  {
   "cell_type": "code",
   "execution_count": 8,
   "metadata": {},
   "outputs": [
    {
     "name": "stdout",
     "output_type": "stream",
     "text": [
      "                            OLS Regression Results                            \n",
      "==============================================================================\n",
      "Dep. Variable:           cotacaoVenda   R-squared:                       0.196\n",
      "Model:                            OLS   Adj. R-squared:                  0.190\n",
      "Method:                 Least Squares   F-statistic:                     30.01\n",
      "Date:                Fri, 13 Jul 2018   Prob (F-statistic):           2.32e-07\n",
      "Time:                        19:50:32   Log-Likelihood:                -105.59\n",
      "No. Observations:                 125   AIC:                             215.2\n",
      "Df Residuals:                     123   BIC:                             220.8\n",
      "Df Model:                           1                                         \n",
      "Covariance Type:            nonrobust                                         \n",
      "==============================================================================\n",
      "                 coef    std err          t      P>|t|      [0.025      0.975]\n",
      "------------------------------------------------------------------------------\n",
      "const          4.4616      0.373     11.971      0.000       3.724       5.199\n",
      "valor         -0.0148      0.003     -5.478      0.000      -0.020      -0.009\n",
      "==============================================================================\n",
      "Omnibus:                       21.949   Durbin-Watson:                   0.161\n",
      "Prob(Omnibus):                  0.000   Jarque-Bera (JB):               27.360\n",
      "Skew:                           1.116   Prob(JB):                     1.15e-06\n",
      "Kurtosis:                       3.521   Cond. No.                     1.01e+03\n",
      "==============================================================================\n",
      "\n",
      "Warnings:\n",
      "[1] Standard Errors assume that the covariance matrix of the errors is correctly specified.\n",
      "[2] The condition number is large, 1.01e+03. This might indicate that there are\n",
      "strong multicollinearity or other numerical problems.\n"
     ]
    }
   ],
   "source": [
    "#preparando os dados para regressão\n",
    "X = sm.add_constant(exp_cam_df['valor'])\n",
    "Y = exp_cam_df['cotacaoVenda']\n",
    "\n",
    "#rodar regressão\n",
    "model = sm.OLS(Y,X)\n",
    "results = model.fit()\n",
    "\n",
    "#salvar resultados da regressão em arquivo de texto\n",
    "with open('resultados_regressão.txt', 'w') as f:\n",
    "    print('Filename:', results.summary(), file=f) \n",
    "\n",
    "#mostrar resultados da regressão\n",
    "print(results.summary())"
   ]
  },
  {
   "cell_type": "markdown",
   "metadata": {},
   "source": [
    "    A regressão resultou em parâmetros altamente significativos. O teste de Durbin Watson não rejeita a hipótese nula de ausência de autocorrelação do erro até a primeira defasagem a um nível de 10% de significância. O teste de Jarque-Bera, porém, rejeita fortemente a hipótese nula de normalidade dos resíduos.\n",
    "    O coeficiente da regressão apresentou o sinal esperado, dada nossa hipótese. O efeito mostra-se altamente significativo, e de tamanho considerável: para cada 20 pontos a mais no índice de expectativas, aproximadamente seu desvio padrão, espera-se um aumento de 30 centavos no preço do dólar. Porém, para validarmos nossa hipótese, devemos realizar diagnósticos acerca das principais hipóteses do modelo clássico de regressão linear. Tratando-se de séries temporais não estacionárias, há sempre o risco de termos na verdade uma regressão espúria, caso os resíduos não sejam estacionários."
   ]
  },
  {
   "cell_type": "markdown",
   "metadata": {},
   "source": [
    "### Diagnósticos"
   ]
  },
  {
   "cell_type": "markdown",
   "metadata": {},
   "source": [
    "    Nesta sessão, faremos os testes de hipóteses previamente citados. Comecemos pelos testes de heteroscedasticidade:"
   ]
  },
  {
   "cell_type": "code",
   "execution_count": 9,
   "metadata": {},
   "outputs": [
    {
     "ename": "NameError",
     "evalue": "name 'het_p' is not defined",
     "output_type": "error",
     "traceback": [
      "\u001b[0;31m---------------------------------------------------------------------------\u001b[0m",
      "\u001b[0;31mNameError\u001b[0m                                 Traceback (most recent call last)",
      "\u001b[0;32m<ipython-input-9-fa81b848e776>\u001b[0m in \u001b[0;36m<module>\u001b[0;34m()\u001b[0m\n\u001b[1;32m     11\u001b[0m \u001b[0mwh_p\u001b[0m \u001b[0;34m=\u001b[0m \u001b[0mwh_test\u001b[0m\u001b[0;34m[\u001b[0m\u001b[0;36m3\u001b[0m\u001b[0;34m]\u001b[0m\u001b[0;34m\u001b[0m\u001b[0m\n\u001b[1;32m     12\u001b[0m \u001b[0;34m\u001b[0m\u001b[0m\n\u001b[0;32m---> 13\u001b[0;31m \u001b[0mprint\u001b[0m\u001b[0;34m(\u001b[0m\u001b[0;34m\"O p-valor para o teste de heteroscedasticidade de Breusch-Pagan é de\"\u001b[0m\u001b[0;34m,\u001b[0m\u001b[0mhet_p\u001b[0m\u001b[0;34m,\u001b[0m\u001b[0;34m\"e para o de White é de\"\u001b[0m\u001b[0;34m,\u001b[0m \u001b[0mwh_p\u001b[0m\u001b[0;34m,\u001b[0m \u001b[0;34m\".\\n\"\u001b[0m\u001b[0;34m)\u001b[0m\u001b[0;34m\u001b[0m\u001b[0m\n\u001b[0m",
      "\u001b[0;31mNameError\u001b[0m: name 'het_p' is not defined"
     ]
    }
   ],
   "source": [
    "#salvar valores importantes para o diagnóstico\n",
    "Y_hat = results.predict()\n",
    "residual = Y - Y_hat\n",
    "\n",
    "#realizar o teste de Breusch-Pagan\n",
    "bp_test = dg.het_breuschpagan(residual, X)\n",
    "bp_p = bp_test[3]\n",
    "\n",
    "#realizar o teste de White\n",
    "wh_test = dg.het_white(residual, X)\n",
    "wh_p = wh_test[3]\n",
    "\n",
    "print(\"O p-valor para o teste de heteroscedasticidade de Breusch-Pagan é de\",het_p,\"e para o de White é de\", wh_p, \".\\n\")"
   ]
  },
  {
   "cell_type": "markdown",
   "metadata": {},
   "source": [
    "    Apesar do teste de Breusch-Pagan não ter rejeitado a nula de ausência de heteroscedasticidade nem mesmo a 10% de significância, o teste de White rejeita a hipótese de homoscedasticidade a 1%. "
   ]
  },
  {
   "cell_type": "code",
   "execution_count": null,
   "metadata": {},
   "outputs": [],
   "source": [
    "#realizar o teste de Ljung-Box\n",
    "lb_test = dg.acorr_ljungbox(residual, lags=10)\n",
    "lb_p = lb_test[1]\n",
    "print(\"P-valores para o teste Ljung-Box para defasagens de 1 a 10:\")\n",
    "print(lb_p)"
   ]
  },
  {
   "cell_type": "markdown",
   "metadata": {},
   "source": [
    "    O teste de Ljung-Box contradiz o observado no teste de Durbin-Watson, mostrando p-valores de ordem de magnitude muito abaixo de 1% para as defasagens de 1 a 10. Isto pode ser um indicativo de não estacionariedade dos resíduos, visto que séries não estacionárias possuem forte presença de autocorrelação. Verificaremos isto no próximo teste."
   ]
  },
  {
   "cell_type": "code",
   "execution_count": null,
   "metadata": {},
   "outputs": [],
   "source": [
    "#realizar o teste ADF nos resíduos\n",
    "res_ADF = ts.adfuller(residual)\n",
    "res_ADF_p = res_ADF[1]\n",
    "\n",
    "print(\"O p-valor do teste ADF para os resíduos é\",res_ADF_p,\".\\n\")"
   ]
  },
  {
   "cell_type": "markdown",
   "metadata": {},
   "source": [
    "    O teste de Dickey-Fuller para o resíduo não rejeita a hipótese nula de não-estacionariedade do resíduo, botando em questão a cointegração das variáveis. Mostra-se então necessário fazer uma nova regressão, de tal modo que as séries utilizadas sejam estacionárias ou cointegradas. Faremos isto na próxima sessão. No entanto, com o propósito de estudo, continuaremos a explorar nossa regressão atual através de gráficos."
   ]
  },
  {
   "cell_type": "code",
   "execution_count": null,
   "metadata": {},
   "outputs": [],
   "source": [
    "#plotar gráfico de valores efetivos contra ajustados\n",
    "fig, ax = plt.subplots()\n",
    "ax.plot(exp_cam_df['valor'], Y, 'o')\n",
    "ax.plot(exp_cam_df['valor'], Y_hat, 'b-')\n",
    "ax.set_ylabel('Dólar')\n",
    "ax.set_xlabel('Expectativas')\n",
    "ax.set_title('Efetivo vs ajustado')\n",
    "\n",
    "#salvar grafico em arquivo pdf\n",
    "plt.savefig('regressao_grafico.pdf')\n"
   ]
  },
  {
   "cell_type": "code",
   "execution_count": null,
   "metadata": {},
   "outputs": [],
   "source": [
    "#plotar grafico dos resíduos\n",
    "fig, ax3 = plt.subplots()\n",
    "ax3.plot(exp_cam_df['valor'], residual, 'o')\n",
    "ax3.set_ylabel('Resíduo')\n",
    "ax3.set_xlabel('Expectativas')\n",
    "ax3.set_title('Gráfico dos resíduos')\n",
    "\n",
    "#salvar gráfico\n",
    "plt.savefig('regressao1_grafico_residuos.pdf')\n"
   ]
  },
  {
   "cell_type": "markdown",
   "metadata": {},
   "source": [
    "    Ambos os gráficos dos valores ajustados contra os efetivos e dos resíduos contra as expectativas não se mostram particularmente iluminadores. O segundo gráfico sugere uma possível relação entre o regressor e os resíduos, pois os segundos são ligeiramente maiores conforme o regressor aumenta. Se verdade, isto quebraria a hipótese de exogeneidade, tornando nossos estimadores viesados. Com vista no problema de raiz unitária nos resíduos previamente discutido, prosseguiremos na próxima sessão com um novo modelo, desta vez tomando a primeira diferença de nossas séries."
   ]
  },
  {
   "cell_type": "markdown",
   "metadata": {},
   "source": [
    "### Segunda Regressão: primeiras diferenças"
   ]
  },
  {
   "cell_type": "markdown",
   "metadata": {},
   "source": [
    "    Nesta seção, faremos uma nova regressão com as primeiras diferenças de nossas séries. Para isto, primeiro faremos um rápido tratamento e análise exploratória dos dados em questão após tirarmos sua primeira diferença."
   ]
  },
  {
   "cell_type": "code",
   "execution_count": null,
   "metadata": {},
   "outputs": [],
   "source": [
    "#tirar a primeira diferença\n",
    "delta_df = exp_cam_df.diff()\n",
    "#tirar a primeira linha por conta de valores NaN\n",
    "delta_df = delta_df[1:]\n",
    "delta_X = delta_df['valor']\n",
    "delta_Y = delta_df['cotacaoVenda']"
   ]
  },
  {
   "cell_type": "code",
   "execution_count": null,
   "metadata": {},
   "outputs": [],
   "source": [
    "#criação do primeiro grafico\n",
    "fig, ax4 = plt.subplots()\n",
    "\n",
    "color = 'tab:red'\n",
    "ax4.set_xlabel('Data')\n",
    "ax4.set_ylabel('Variação das expectativas', color=color)\n",
    "ax4.plot(delta_df.index.values, delta_X, color=color)\n",
    "ax4.tick_params(axis='y', labelcolor=color)\n",
    "\n",
    "#concatenação dos dois gráficos em um gráfico de dois eixos y\n",
    "ax5 = ax4.twinx() \n",
    "\n",
    "color = 'tab:blue'\n",
    "ax5.set_ylabel('Variação do dólar', color=color)  \n",
    "ax5.plot(delta_df.index.values, delta_Y, color=color)\n",
    "ax5.tick_params(axis='y', labelcolor=color)\n",
    "\n",
    "plt.savefig('grafico_primeira_dif.pdf')"
   ]
  },
  {
   "cell_type": "code",
   "execution_count": null,
   "metadata": {},
   "outputs": [],
   "source": [
    "dexp_ADF = ts.adfuller(delta_X)\n",
    "ddol_ADF = ts.adfuller(delta_Y)\n",
    "\n",
    "print(\"O p-valor para o teste ADF para a série das expectativas é de\", dexp_ADF[1],\"e o p-valor para a série do dólar é de\", ddol_ADF[1],\".\\n\")"
   ]
  },
  {
   "cell_type": "markdown",
   "metadata": {},
   "source": [
    "    Após tirar a primeira diferença, ambas as séries se tornaram estacionárias, e, portanto, são I(1). Notavelmente, o gráfico das duas para de sugerir a correlação negativa observada na primeira sessão. Prosseguiremos fazendo uma regressão para verificar se ainda há alguma relação negativa entre as duas variáveis."
   ]
  },
  {
   "cell_type": "code",
   "execution_count": null,
   "metadata": {},
   "outputs": [],
   "source": [
    "delta_X_r = sm.add_constant(delta_X)\n",
    "\n",
    "#rodar regressão\n",
    "dmodel = sm.OLS(delta_Y,delta_X_r)\n",
    "dresults = dmodel.fit()\n",
    "\n",
    "#salvar resultados da regressão em arquivo de texto\n",
    "with open('resultados_regressão_primeira_dif.txt', 'w') as f:\n",
    "    print('Filename:', dresults.summary(), file=f) \n",
    "\n",
    "#mostrar resultados da regressão\n",
    "print(dresults.summary())"
   ]
  },
  {
   "cell_type": "markdown",
   "metadata": {},
   "source": [
    "    A regressão entre as primeiras diferenças não apresenta nenhum coeficiente significante. A estatística F de significância global também não rejeita a hipótese nula conjunta de irrelevância da constante e das expectativas para a determinação do preço do dólar. Concluio, então, que a regressão anterior era um clássico caso de regressão espúria. Não há propósito, então, em fazer testes de hipóteses para o modelo, visto que este é rejeitado pela evidência."
   ]
  },
  {
   "cell_type": "markdown",
   "metadata": {},
   "source": [
    "# Conclusão"
   ]
  },
  {
   "cell_type": "markdown",
   "metadata": {},
   "source": [
    "    Neste trabalho, analisamos a relação entre o Índice de Expectativas do Banco Central e do preço do dólar no Brasil. Minha hipótese inicial, de que havia uma relação negativa entre as duas variáveis, foi aceita em um primeiro momento pela nossa regressão, que, porém, mostrou ser espúria. Uma nova regressão tratando das primeiras diferenças das variáveis em questão (que, diga-se de passagem, são estacionárias) indicou a não existência de nenhuma relação linear entre ambas. "
   ]
  }
 ],
 "metadata": {
  "kernelspec": {
   "display_name": "Python 3",
   "language": "python",
   "name": "python3"
  },
  "language_info": {
   "codemirror_mode": {
    "name": "ipython",
    "version": 3
   },
   "file_extension": ".py",
   "mimetype": "text/x-python",
   "name": "python",
   "nbconvert_exporter": "python",
   "pygments_lexer": "ipython3",
   "version": "3.6.5"
  }
 },
 "nbformat": 4,
 "nbformat_minor": 2
}
